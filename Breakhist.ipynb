{
  "nbformat": 4,
  "nbformat_minor": 0,
  "metadata": {
    "colab": {
      "name": "Breakhist.ipynb",
      "provenance": []
    },
    "kernelspec": {
      "name": "python3",
      "display_name": "Python 3"
    },
    "accelerator": "GPU"
  },
  "cells": [
    {
      "cell_type": "code",
      "metadata": {
        "id": "BOHK63PZ59vG",
        "colab_type": "code",
        "colab": {
          "base_uri": "https://localhost:8080/",
          "height": 235
        },
        "outputId": "7506448a-6cb9-45cf-d775-77b60b881866"
      },
      "source": [
        "!pip install --upgrade --force-reinstall --no-deps kaggle"
      ],
      "execution_count": 1,
      "outputs": [
        {
          "output_type": "stream",
          "text": [
            "Collecting kaggle\n",
            "\u001b[?25l  Downloading https://files.pythonhosted.org/packages/62/ab/bb20f9b9e24f9a6250f95a432f8d9a7d745f8d24039d7a5a6eaadb7783ba/kaggle-1.5.6.tar.gz (58kB)\n",
            "\r\u001b[K     |█████▋                          | 10kB 15.2MB/s eta 0:00:01\r\u001b[K     |███████████▎                    | 20kB 2.9MB/s eta 0:00:01\r\u001b[K     |█████████████████               | 30kB 3.7MB/s eta 0:00:01\r\u001b[K     |██████████████████████▌         | 40kB 4.1MB/s eta 0:00:01\r\u001b[K     |████████████████████████████▏   | 51kB 3.4MB/s eta 0:00:01\r\u001b[K     |████████████████████████████████| 61kB 2.9MB/s \n",
            "\u001b[?25hBuilding wheels for collected packages: kaggle\n",
            "  Building wheel for kaggle (setup.py) ... \u001b[?25l\u001b[?25hdone\n",
            "  Created wheel for kaggle: filename=kaggle-1.5.6-cp36-none-any.whl size=72859 sha256=2e33a8e2629f90cae9de859443e9a3b95925e16b7110cc2e47048f4ac7ab8c8e\n",
            "  Stored in directory: /root/.cache/pip/wheels/57/4e/e8/bb28d035162fb8f17f8ca5d42c3230e284c6aa565b42b72674\n",
            "Successfully built kaggle\n",
            "Installing collected packages: kaggle\n",
            "  Found existing installation: kaggle 1.5.6\n",
            "    Uninstalling kaggle-1.5.6:\n",
            "      Successfully uninstalled kaggle-1.5.6\n",
            "Successfully installed kaggle-1.5.6\n"
          ],
          "name": "stdout"
        }
      ]
    },
    {
      "cell_type": "code",
      "metadata": {
        "id": "QHX5gtsL7B6c",
        "colab_type": "code",
        "colab": {
          "resources": {
            "http://localhost:8080/nbextensions/google.colab/files.js": {
              "data": "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",
              "ok": true,
              "headers": [
                [
                  "content-type",
                  "application/javascript"
                ]
              ],
              "status": 200,
              "status_text": ""
            }
          },
          "base_uri": "https://localhost:8080/",
          "height": 90
        },
        "outputId": "d9c79b96-ed69-43a7-e746-06a32b0f4b10"
      },
      "source": [
        "from google.colab import files\n",
        "files.upload()"
      ],
      "execution_count": 2,
      "outputs": [
        {
          "output_type": "display_data",
          "data": {
            "text/html": [
              "\n",
              "     <input type=\"file\" id=\"files-254ab965-d4d8-4c24-9ceb-7963d2f3fea6\" name=\"files[]\" multiple disabled\n",
              "        style=\"border:none\" />\n",
              "     <output id=\"result-254ab965-d4d8-4c24-9ceb-7963d2f3fea6\">\n",
              "      Upload widget is only available when the cell has been executed in the\n",
              "      current browser session. Please rerun this cell to enable.\n",
              "      </output>\n",
              "      <script src=\"/nbextensions/google.colab/files.js\"></script> "
            ],
            "text/plain": [
              "<IPython.core.display.HTML object>"
            ]
          },
          "metadata": {
            "tags": []
          }
        },
        {
          "output_type": "stream",
          "text": [
            "Saving kaggle.json to kaggle.json\n"
          ],
          "name": "stdout"
        },
        {
          "output_type": "execute_result",
          "data": {
            "text/plain": [
              "{'kaggle.json': b'{\"username\":\"dafrel\",\"key\":\"fe8efba2f9884818bb24c6c528cac916\"}'}"
            ]
          },
          "metadata": {
            "tags": []
          },
          "execution_count": 2
        }
      ]
    },
    {
      "cell_type": "code",
      "metadata": {
        "id": "o-sanduo7UZK",
        "colab_type": "code",
        "colab": {}
      },
      "source": [
        "!mkdir -p ~/.kaggle\n",
        "!cp kaggle.json ~/.kaggle/\n",
        "\n",
        "# This permissions change avoids a warning on Kaggle tool startup.\n",
        "!chmod 600 ~/.kaggle/kaggle.json"
      ],
      "execution_count": 3,
      "outputs": []
    },
    {
      "cell_type": "code",
      "metadata": {
        "id": "fzqgvWFU7f35",
        "colab_type": "code",
        "colab": {
          "base_uri": "https://localhost:8080/",
          "height": 67
        },
        "outputId": "774e9937-a9ed-4052-dfce-d217fda2900a"
      },
      "source": [
        "!kaggle datasets download -d ankur1809/breakhist-dataset"
      ],
      "execution_count": 4,
      "outputs": [
        {
          "output_type": "stream",
          "text": [
            "Downloading breakhist-dataset.zip to /content\n",
            "100% 7.92G/7.92G [03:04<00:00, 16.8MB/s]\n",
            "100% 7.92G/7.92G [03:04<00:00, 46.2MB/s]\n"
          ],
          "name": "stdout"
        }
      ]
    },
    {
      "cell_type": "code",
      "metadata": {
        "id": "DPfOHd5F7kgS",
        "colab_type": "code",
        "colab": {}
      },
      "source": [
        "!unzip -uq \"/content/breakhist-dataset.zip\" -d \"/content/proj\""
      ],
      "execution_count": 5,
      "outputs": []
    },
    {
      "cell_type": "code",
      "metadata": {
        "id": "rxS6HrI_8Io7",
        "colab_type": "code",
        "colab": {}
      },
      "source": [
        "#!ls \"/content/proj\""
      ],
      "execution_count": 6,
      "outputs": []
    },
    {
      "cell_type": "code",
      "metadata": {
        "id": "PCM4QA8v9VXa",
        "colab_type": "code",
        "colab": {}
      },
      "source": [
        "\n"
      ],
      "execution_count": 6,
      "outputs": []
    },
    {
      "cell_type": "code",
      "metadata": {
        "id": "ULmriCzY9Y5u",
        "colab_type": "code",
        "colab": {}
      },
      "source": [
        "import  os\n",
        "import pandas as pd\n",
        "import io\n",
        "import tensorflow as tf\n",
        "import gc\n",
        "import matplotlib.pyplot as plt\n",
        "import numpy as np\n",
        "import cv2\n",
        "from tensorflow import keras\n",
        "from keras import backend as K\n",
        "from keras.utils import np_utils\n",
        "from keras.models import Sequential\n",
        "from keras.layers.core import Dense, Dropout, Activation, Flatten\n",
        "from keras.layers.convolutional import Conv2D, MaxPooling2D\n",
        "from keras.optimizers import SGD,RMSprop,Adam\n",
        "from sklearn.utils import shuffle\n",
        "from sklearn.model_selection import train_test_split\n",
        "import shutil"
      ],
      "execution_count": 1,
      "outputs": []
    },
    {
      "cell_type": "code",
      "metadata": {
        "id": "YdS9qV7z_JEL",
        "colab_type": "code",
        "colab": {
          "base_uri": "https://localhost:8080/",
          "height": 34
        },
        "outputId": "963165cf-8783-4d82-e943-618c72de38b8"
      },
      "source": [
        "os.listdir('/content/proj/BreakHist_Dataset')"
      ],
      "execution_count": 9,
      "outputs": [
        {
          "output_type": "execute_result",
          "data": {
            "text/plain": [
              "['100X', '400X', '200X', '40X']"
            ]
          },
          "metadata": {
            "tags": []
          },
          "execution_count": 9
        }
      ]
    },
    {
      "cell_type": "code",
      "metadata": {
        "id": "iWxqfmL1_Oi8",
        "colab_type": "code",
        "colab": {}
      },
      "source": [
        "path='/content/proj/BreakHist_Dataset'\n"
      ],
      "execution_count": 3,
      "outputs": []
    },
    {
      "cell_type": "code",
      "metadata": {
        "id": "yaSNu31A_Zdk",
        "colab_type": "code",
        "colab": {}
      },
      "source": [
        "count=0\n",
        "cnt=0\n",
        "train=[]\n",
        "val=[]\n",
        "tl=[]\n",
        "vl=[]\n",
        "for i in os.listdir(path):\n",
        "  for j in os.listdir(path+'/'+i):\n",
        "    label=j\n",
        "    for k in os.listdir(path+'/'+i+'/'+j):\n",
        "      for l in os.listdir(path+'/'+i+'/'+j+'/'+k):\n",
        "        \n",
        "        if j =='Benign':\n",
        "          img=cv2.imread(path+'/'+i+'/'+j+'/'+k+'/'+l)\n",
        "          img=cv2.resize(img,(150,150))\n",
        "          if count<1943:\n",
        "            train.append(img)\n",
        "            tl.append(0)\n",
        "          else:\n",
        "            val.append(img)\n",
        "            vl.append(0)\n",
        "          count+=1\n",
        "        elif j=='Malignant':\n",
        "          img=cv2.imread(path+'/'+i+'/'+j+'/'+k+'/'+l)\n",
        "          img=cv2.resize(img,(150,150))\n",
        "          if cnt<4343:\n",
        "            train.append(img)\n",
        "            tl.append(1)\n",
        "          else:\n",
        "            val.append(img)\n",
        "            vl.append(1)\n",
        "          cnt+=1\n",
        "        \n",
        "\n",
        "\n",
        "        "
      ],
      "execution_count": 4,
      "outputs": []
    },
    {
      "cell_type": "code",
      "metadata": {
        "id": "Zgslr0EBLETM",
        "colab_type": "code",
        "colab": {
          "base_uri": "https://localhost:8080/",
          "height": 34
        },
        "outputId": "3a160bf0-4500-48c4-d92d-2ade4692bf3c"
      },
      "source": [
        "len(train)"
      ],
      "execution_count": 58,
      "outputs": [
        {
          "output_type": "execute_result",
          "data": {
            "text/plain": [
              "6286"
            ]
          },
          "metadata": {
            "tags": []
          },
          "execution_count": 58
        }
      ]
    },
    {
      "cell_type": "code",
      "metadata": {
        "id": "buru27RaXaWw",
        "colab_type": "code",
        "colab": {
          "base_uri": "https://localhost:8080/",
          "height": 34
        },
        "outputId": "e2a99559-916f-4e17-f9d4-46190abd1123"
      },
      "source": [
        "len()"
      ],
      "execution_count": 46,
      "outputs": [
        {
          "output_type": "execute_result",
          "data": {
            "text/plain": [
              "3"
            ]
          },
          "metadata": {
            "tags": []
          },
          "execution_count": 46
        }
      ]
    },
    {
      "cell_type": "code",
      "metadata": {
        "id": "VOYJA-i6uo7A",
        "colab_type": "code",
        "colab": {}
      },
      "source": [
        ""
      ],
      "execution_count": null,
      "outputs": []
    },
    {
      "cell_type": "code",
      "metadata": {
        "id": "DELBgQCdLEcc",
        "colab_type": "code",
        "colab": {}
      },
      "source": [
        "t = np.array(train)\n",
        "t = t.astype('float32')\n",
        "t /= 255\n",
        " \n",
        "labels = np.array(tl)\n",
        "Y = np_utils.to_categorical(labels, 2)"
      ],
      "execution_count": 5,
      "outputs": []
    },
    {
      "cell_type": "code",
      "metadata": {
        "id": "ddmQfRyOV38q",
        "colab_type": "code",
        "colab": {}
      },
      "source": [
        "tt = np.array(val)\n",
        "tt = tt.astype('float32')\n",
        "tt /= 255\n",
        "\n",
        "labels = np.array(vl)\n",
        "Yt = np_utils.to_categorical(labels, 2)"
      ],
      "execution_count": 6,
      "outputs": []
    },
    {
      "cell_type": "markdown",
      "metadata": {
        "id": "aM1_GoAoXmWx",
        "colab_type": "text"
      },
      "source": [
        "For complete training data\n"
      ]
    },
    {
      "cell_type": "code",
      "metadata": {
        "id": "gQy-TyAebuBb",
        "colab_type": "code",
        "colab": {}
      },
      "source": [
        "x,y = shuffle(t,Y, random_state=1)\n",
        "x = x.reshape(-1,150, 150, 3) \n",
        "\n"
      ],
      "execution_count": 7,
      "outputs": []
    },
    {
      "cell_type": "code",
      "metadata": {
        "id": "VExbIfFZbud0",
        "colab_type": "code",
        "colab": {}
      },
      "source": [
        "v,yl = shuffle(tt,Yt, random_state=1)\n",
        "v = v.reshape(-1,150, 150, 3) "
      ],
      "execution_count": 8,
      "outputs": []
    },
    {
      "cell_type": "code",
      "metadata": {
        "id": "si3c9FcobuhK",
        "colab_type": "code",
        "colab": {}
      },
      "source": [
        ""
      ],
      "execution_count": 89,
      "outputs": []
    },
    {
      "cell_type": "code",
      "metadata": {
        "id": "LDW3pnI9_pay",
        "colab_type": "code",
        "colab": {}
      },
      "source": [
        "model=Sequential()\n",
        "model.add(Conv2D(256,(3,3),input_shape=(150,150,3)))\n",
        "model.add(Activation('relu'))\n",
        "model.add(MaxPooling2D(pool_size=(2, 2)))\n",
        "model.add(Conv2D(256, (2, 2)))\n",
        "model.add(MaxPooling2D(pool_size=(2, 2)))\n",
        "model.add(Activation('relu'))\n",
        "model.add(Conv2D(256, (1, 1)))\n",
        "model.add(MaxPooling2D(pool_size=(2, 2)))\n",
        "model.add(Activation('relu'))\n",
        "model.add(Conv2D(128, (3, 3)))\n",
        "model.add(MaxPooling2D(pool_size=(2, 2)))\n",
        "model.add(Activation('relu'))\n",
        "model.add(Flatten())\n",
        "model.add(Dense(500))\n",
        "model.add(Activation('relu'))\n",
        "model.add(Dense(300))\n",
        "model.add(Activation('relu'))\n",
        "model.add(Dense(500))\n",
        "model.add(Dropout(0.2))\n",
        "model.add(Activation('relu'))\n",
        "model.add(Dense(2))\n",
        "model.add(Activation('sigmoid'))\n",
        "model.compile(loss='categorical_crossentropy', optimizer='adam',metrics=[\"accuracy\"])"
      ],
      "execution_count": 9,
      "outputs": []
    },
    {
      "cell_type": "code",
      "metadata": {
        "id": "a7siDxXS_yl4",
        "colab_type": "code",
        "colab": {
          "base_uri": "https://localhost:8080/",
          "height": 1000
        },
        "outputId": "a021ab2d-d088-477f-c2c0-f8d388d9e3c4"
      },
      "source": [
        "hist = model.fit(x, y, batch_size=30,epochs=30, validation_data=(v,yl))"
      ],
      "execution_count": 10,
      "outputs": [
        {
          "output_type": "stream",
          "text": [
            "Epoch 1/30\n",
            "  2/210 [..............................] - ETA: 11s - loss: 0.6981 - accuracy: 0.5000WARNING:tensorflow:Callbacks method `on_train_batch_end` is slow compared to the batch time (batch time: 0.0378s vs `on_train_batch_end` time: 0.0730s). Check your callbacks.\n",
            "210/210 [==============================] - 25s 118ms/step - loss: 0.5484 - accuracy: 0.7374 - val_loss: 0.6309 - val_accuracy: 0.6069\n",
            "Epoch 2/30\n",
            "210/210 [==============================] - 24s 117ms/step - loss: 0.5571 - accuracy: 0.7315 - val_loss: 0.5650 - val_accuracy: 0.6959\n",
            "Epoch 3/30\n",
            "210/210 [==============================] - 25s 119ms/step - loss: 0.4994 - accuracy: 0.7821 - val_loss: 0.5812 - val_accuracy: 0.7017\n",
            "Epoch 4/30\n",
            "210/210 [==============================] - 25s 118ms/step - loss: 0.4751 - accuracy: 0.8037 - val_loss: 0.5212 - val_accuracy: 0.7805\n",
            "Epoch 5/30\n",
            "210/210 [==============================] - 25s 117ms/step - loss: 0.4790 - accuracy: 0.7991 - val_loss: 0.5027 - val_accuracy: 0.7971\n",
            "Epoch 6/30\n",
            "210/210 [==============================] - 25s 118ms/step - loss: 0.4470 - accuracy: 0.8236 - val_loss: 0.4742 - val_accuracy: 0.7996\n",
            "Epoch 7/30\n",
            "210/210 [==============================] - 25s 117ms/step - loss: 0.4557 - accuracy: 0.8131 - val_loss: 0.4919 - val_accuracy: 0.7933\n",
            "Epoch 8/30\n",
            "210/210 [==============================] - 25s 117ms/step - loss: 0.4306 - accuracy: 0.8344 - val_loss: 0.4573 - val_accuracy: 0.8117\n",
            "Epoch 9/30\n",
            "210/210 [==============================] - 25s 117ms/step - loss: 0.4245 - accuracy: 0.8342 - val_loss: 0.4929 - val_accuracy: 0.8162\n",
            "Epoch 10/30\n",
            "210/210 [==============================] - 25s 117ms/step - loss: 0.4098 - accuracy: 0.8478 - val_loss: 0.4397 - val_accuracy: 0.8321\n",
            "Epoch 11/30\n",
            "210/210 [==============================] - 25s 117ms/step - loss: 0.4057 - accuracy: 0.8427 - val_loss: 0.4713 - val_accuracy: 0.8079\n",
            "Epoch 12/30\n",
            "210/210 [==============================] - 25s 117ms/step - loss: 0.4110 - accuracy: 0.8463 - val_loss: 0.4310 - val_accuracy: 0.8372\n",
            "Epoch 13/30\n",
            "210/210 [==============================] - 25s 117ms/step - loss: 0.3875 - accuracy: 0.8595 - val_loss: 0.4216 - val_accuracy: 0.8416\n",
            "Epoch 14/30\n",
            "210/210 [==============================] - 25s 117ms/step - loss: 0.3810 - accuracy: 0.8592 - val_loss: 0.4395 - val_accuracy: 0.8270\n",
            "Epoch 15/30\n",
            "210/210 [==============================] - 25s 117ms/step - loss: 0.3725 - accuracy: 0.8640 - val_loss: 0.4426 - val_accuracy: 0.8174\n",
            "Epoch 16/30\n",
            "210/210 [==============================] - 25s 117ms/step - loss: 0.3614 - accuracy: 0.8678 - val_loss: 0.4860 - val_accuracy: 0.8372\n",
            "Epoch 17/30\n",
            "210/210 [==============================] - 25s 117ms/step - loss: 0.3433 - accuracy: 0.8767 - val_loss: 0.4746 - val_accuracy: 0.8079\n",
            "Epoch 18/30\n",
            "210/210 [==============================] - 25s 117ms/step - loss: 0.3561 - accuracy: 0.8702 - val_loss: 0.4110 - val_accuracy: 0.8461\n",
            "Epoch 19/30\n",
            "210/210 [==============================] - 25s 117ms/step - loss: 0.3417 - accuracy: 0.8756 - val_loss: 0.6453 - val_accuracy: 0.7405\n",
            "Epoch 20/30\n",
            "210/210 [==============================] - 24s 116ms/step - loss: 0.3326 - accuracy: 0.8815 - val_loss: 0.4440 - val_accuracy: 0.8346\n",
            "Epoch 21/30\n",
            "210/210 [==============================] - 25s 117ms/step - loss: 0.3282 - accuracy: 0.8815 - val_loss: 0.4900 - val_accuracy: 0.8410\n",
            "Epoch 22/30\n",
            "210/210 [==============================] - 25s 117ms/step - loss: 0.3111 - accuracy: 0.8917 - val_loss: 0.6815 - val_accuracy: 0.7691\n",
            "Epoch 23/30\n",
            "210/210 [==============================] - 25s 117ms/step - loss: 0.2764 - accuracy: 0.9058 - val_loss: 0.4846 - val_accuracy: 0.8327\n",
            "Epoch 24/30\n",
            "210/210 [==============================] - 25s 117ms/step - loss: 0.2905 - accuracy: 0.9009 - val_loss: 0.4805 - val_accuracy: 0.8219\n",
            "Epoch 25/30\n",
            "210/210 [==============================] - 25s 118ms/step - loss: 0.2670 - accuracy: 0.9108 - val_loss: 0.4487 - val_accuracy: 0.8543\n",
            "Epoch 26/30\n",
            "210/210 [==============================] - 25s 117ms/step - loss: 0.2419 - accuracy: 0.9165 - val_loss: 0.5119 - val_accuracy: 0.8295\n",
            "Epoch 27/30\n",
            "210/210 [==============================] - 25s 117ms/step - loss: 0.2482 - accuracy: 0.9150 - val_loss: 0.6539 - val_accuracy: 0.8282\n",
            "Epoch 28/30\n",
            "210/210 [==============================] - 25s 117ms/step - loss: 0.2479 - accuracy: 0.9160 - val_loss: 0.4920 - val_accuracy: 0.8365\n",
            "Epoch 29/30\n",
            "210/210 [==============================] - 25s 117ms/step - loss: 0.2054 - accuracy: 0.9329 - val_loss: 0.5671 - val_accuracy: 0.8295\n",
            "Epoch 30/30\n",
            "210/210 [==============================] - 25s 117ms/step - loss: 0.1987 - accuracy: 0.9338 - val_loss: 0.6460 - val_accuracy: 0.8244\n"
          ],
          "name": "stdout"
        }
      ]
    },
    {
      "cell_type": "code",
      "metadata": {
        "id": "wSW23l_WSac6",
        "colab_type": "code",
        "colab": {
          "base_uri": "https://localhost:8080/",
          "height": 87
        },
        "outputId": "33c0f685-f86b-4d57-c35f-215dac191ae3"
      },
      "source": [
        "pre=model.predict_classes(v)"
      ],
      "execution_count": 11,
      "outputs": [
        {
          "output_type": "stream",
          "text": [
            "WARNING:tensorflow:From <ipython-input-11-78b9660e5a9d>:1: Sequential.predict_classes (from tensorflow.python.keras.engine.sequential) is deprecated and will be removed after 2021-01-01.\n",
            "Instructions for updating:\n",
            "Please use instead:* `np.argmax(model.predict(x), axis=-1)`,   if your model does multi-class classification   (e.g. if it uses a `softmax` last-layer activation).* `(model.predict(x) > 0.5).astype(\"int32\")`,   if your model does binary classification   (e.g. if it uses a `sigmoid` last-layer activation).\n"
          ],
          "name": "stdout"
        }
      ]
    },
    {
      "cell_type": "code",
      "metadata": {
        "id": "NrS_9oa0clcE",
        "colab_type": "code",
        "colab": {}
      },
      "source": [
        "y1 = np.argmax(yl, axis=-1)"
      ],
      "execution_count": 12,
      "outputs": []
    },
    {
      "cell_type": "code",
      "metadata": {
        "id": "cSJpdtN2SamD",
        "colab_type": "code",
        "colab": {}
      },
      "source": [
        "from sklearn.metrics import classification_report, confusion_matrix"
      ],
      "execution_count": 13,
      "outputs": []
    },
    {
      "cell_type": "code",
      "metadata": {
        "id": "-3tkERVecw4F",
        "colab_type": "code",
        "colab": {
          "base_uri": "https://localhost:8080/",
          "height": 50
        },
        "outputId": "b5f8ae59-5050-4e22-bd57-553a66ffed12"
      },
      "source": [
        "print( confusion_matrix(y_true=y1,y_pred= pre))"
      ],
      "execution_count": 14,
      "outputs": [
        {
          "output_type": "stream",
          "text": [
            "[[ 267  219]\n",
            " [  57 1029]]\n"
          ],
          "name": "stdout"
        }
      ]
    },
    {
      "cell_type": "code",
      "metadata": {
        "id": "-7kCeikFbJs3",
        "colab_type": "code",
        "colab": {
          "base_uri": "https://localhost:8080/",
          "height": 168
        },
        "outputId": "7fb14034-dc14-41e7-dbd0-126b8501a745"
      },
      "source": [
        "report = classification_report(y1, pre)\n",
        "print(report)"
      ],
      "execution_count": 15,
      "outputs": [
        {
          "output_type": "stream",
          "text": [
            "              precision    recall  f1-score   support\n",
            "\n",
            "           0       0.82      0.55      0.66       486\n",
            "           1       0.82      0.95      0.88      1086\n",
            "\n",
            "    accuracy                           0.82      1572\n",
            "   macro avg       0.82      0.75      0.77      1572\n",
            "weighted avg       0.82      0.82      0.81      1572\n",
            "\n"
          ],
          "name": "stdout"
        }
      ]
    },
    {
      "cell_type": "code",
      "metadata": {
        "id": "KIUWg9H1edAY",
        "colab_type": "code",
        "colab": {}
      },
      "source": [
        ""
      ],
      "execution_count": null,
      "outputs": []
    }
  ]
}